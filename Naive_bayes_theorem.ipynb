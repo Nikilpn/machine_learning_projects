{
  "nbformat": 4,
  "nbformat_minor": 0,
  "metadata": {
    "colab": {
      "provenance": [],
      "authorship_tag": "ABX9TyMK1ss4EUFjB5oW9GGHEHhT",
      "include_colab_link": true
    },
    "kernelspec": {
      "name": "python3",
      "display_name": "Python 3"
    },
    "language_info": {
      "name": "python"
    }
  },
  "cells": [
    {
      "cell_type": "markdown",
      "metadata": {
        "id": "view-in-github",
        "colab_type": "text"
      },
      "source": [
        "<a href=\"https://colab.research.google.com/github/Nikilpn/machine_learning_projects/blob/master/Naive_bayes_theorem.ipynb\" target=\"_parent\"><img src=\"https://colab.research.google.com/assets/colab-badge.svg\" alt=\"Open In Colab\"/></a>"
      ]
    },
    {
      "cell_type": "code",
      "execution_count": null,
      "metadata": {
        "id": "auEj23-bIt8M"
      },
      "outputs": [],
      "source": [
        "# Outlook list\n",
        "outlook = [\"sunny\", \"sunny\", \"overcast\", \"rainy\", \"rainy\", \"rainy\", \"overcast\",\n",
        "           \"sunny\", \"sunny\", \"rainy\", \"sunny\", \"overcast\", \"overcast\", \"rainy\"]\n",
        "\n",
        "# Temperature list\n",
        "temperature = [\"hot\", \"hot\", \"hot\", \"mild\", \"cool\", \"cool\", \"cool\",\n",
        "        \"mild\", \"cool\", \"mild\", \"mild\", \"mild\", \"hot\", \"mild\"]\n",
        "\n",
        "# Humidity list\n",
        "humidity = [\"high\", \"high\", \"high\", \"high\", \"normal\", \"normal\", \"normal\",\n",
        "            \"high\", \"normal\", \"normal\", \"normal\", \"high\", \"normal\", \"high\"]\n",
        "\n",
        "# Windy list\n",
        "wind = [\"Weak\", \"Strong\", \"Weak\", \"Weak\", \"Weak\", \"Strong\", \"Strong\",\n",
        "        \"Weak\", \"Weak\", \"Weak\", \"Strong\", \"Strong\", \"Weak\", \"Strong\"]\n",
        "\n",
        "\n",
        "# Play list (Target variable)\n",
        "play = [\"no\", \"no\", \"yes\", \"yes\", \"yes\", \"no\", \"yes\",\n",
        "        \"no\", \"yes\", \"yes\", \"yes\", \"yes\", \"yes\", \"no\"]\n"
      ]
    },
    {
      "cell_type": "code",
      "source": [
        "from sklearn.preprocessing import LabelEncoder\n",
        "lb=LabelEncoder()\n",
        "outlook_encoder=lb.fit_transform(outlook)\n",
        "outlook_encoder"
      ],
      "metadata": {
        "colab": {
          "base_uri": "https://localhost:8080/"
        },
        "id": "abLjLxqMJ-lI",
        "outputId": "227c6db3-050b-4bd3-879e-50d039053638"
      },
      "execution_count": null,
      "outputs": [
        {
          "output_type": "execute_result",
          "data": {
            "text/plain": [
              "array([2, 2, 0, 1, 1, 1, 0, 2, 2, 1, 2, 0, 0, 1])"
            ]
          },
          "metadata": {},
          "execution_count": 9
        }
      ]
    },
    {
      "cell_type": "code",
      "source": [
        "lb=LabelEncoder()\n",
        "temperature_encoder=lb.fit_transform(temperature)\n",
        "temperature_encoder"
      ],
      "metadata": {
        "colab": {
          "base_uri": "https://localhost:8080/"
        },
        "id": "mWXDX5wVOEbT",
        "outputId": "2a7fe05a-d31f-4b1f-d256-ea72ea0d32b8"
      },
      "execution_count": null,
      "outputs": [
        {
          "output_type": "execute_result",
          "data": {
            "text/plain": [
              "array([1, 1, 1, 2, 0, 0, 0, 2, 0, 2, 2, 2, 1, 2])"
            ]
          },
          "metadata": {},
          "execution_count": 11
        }
      ]
    },
    {
      "cell_type": "code",
      "source": [
        "lb=LabelEncoder()\n",
        "wind_encoder=lb.fit_transform(wind)\n",
        "wind_encoder"
      ],
      "metadata": {
        "colab": {
          "base_uri": "https://localhost:8080/"
        },
        "id": "1aOs6kUmQ3IE",
        "outputId": "d63206f9-5639-4f92-b096-293bd63fc74b"
      },
      "execution_count": null,
      "outputs": [
        {
          "output_type": "execute_result",
          "data": {
            "text/plain": [
              "array([1, 0, 1, 1, 1, 0, 0, 1, 1, 1, 0, 0, 1, 0])"
            ]
          },
          "metadata": {},
          "execution_count": 13
        }
      ]
    },
    {
      "cell_type": "code",
      "source": [
        "lb=LabelEncoder()\n",
        "humidity_encoder=lb.fit_transform(humidity)\n",
        "humidity_encoder"
      ],
      "metadata": {
        "colab": {
          "base_uri": "https://localhost:8080/"
        },
        "id": "INdkfuglV2r7",
        "outputId": "b440e877-34f8-46e7-bbf2-2b691bda94f5"
      },
      "execution_count": null,
      "outputs": [
        {
          "output_type": "execute_result",
          "data": {
            "text/plain": [
              "array([0, 0, 0, 0, 1, 1, 1, 0, 1, 1, 1, 0, 1, 0])"
            ]
          },
          "metadata": {},
          "execution_count": 16
        }
      ]
    },
    {
      "cell_type": "code",
      "source": [],
      "metadata": {
        "id": "a-Bfk82GV2dh"
      },
      "execution_count": null,
      "outputs": []
    },
    {
      "cell_type": "code",
      "source": [
        "#zip\n",
        "features=list(zip(outlook_encoder,temperature_encoder,humidity_encoder,wind_encoder))\n",
        "features"
      ],
      "metadata": {
        "colab": {
          "base_uri": "https://localhost:8080/"
        },
        "id": "KZDqTJXzQuAe",
        "outputId": "0215faba-31c4-45d0-8ed2-d9b5538e3ea8"
      },
      "execution_count": null,
      "outputs": [
        {
          "output_type": "execute_result",
          "data": {
            "text/plain": [
              "[(np.int64(2), np.int64(1), np.int64(0), np.int64(1)),\n",
              " (np.int64(2), np.int64(1), np.int64(0), np.int64(0)),\n",
              " (np.int64(0), np.int64(1), np.int64(0), np.int64(1)),\n",
              " (np.int64(1), np.int64(2), np.int64(0), np.int64(1)),\n",
              " (np.int64(1), np.int64(0), np.int64(1), np.int64(1)),\n",
              " (np.int64(1), np.int64(0), np.int64(1), np.int64(0)),\n",
              " (np.int64(0), np.int64(0), np.int64(1), np.int64(0)),\n",
              " (np.int64(2), np.int64(2), np.int64(0), np.int64(1)),\n",
              " (np.int64(2), np.int64(0), np.int64(1), np.int64(1)),\n",
              " (np.int64(1), np.int64(2), np.int64(1), np.int64(1)),\n",
              " (np.int64(2), np.int64(2), np.int64(1), np.int64(0)),\n",
              " (np.int64(0), np.int64(2), np.int64(0), np.int64(0)),\n",
              " (np.int64(0), np.int64(1), np.int64(1), np.int64(1)),\n",
              " (np.int64(1), np.int64(2), np.int64(0), np.int64(0))]"
            ]
          },
          "metadata": {},
          "execution_count": 18
        }
      ]
    },
    {
      "cell_type": "code",
      "source": [
        "#model Creation\n",
        "#Naive_bayes\n",
        "from sklearn.naive_bayes import MultinomialNB\n",
        "model=MultinomialNB()\n",
        "model.fit(features,play)\n",
        "print(model.predict([[2,0,0,0]]))"
      ],
      "metadata": {
        "colab": {
          "base_uri": "https://localhost:8080/"
        },
        "id": "pkSECIEsWPR5",
        "outputId": "7f161c20-ca57-49d0-8fa8-6f3ffa0d0559"
      },
      "execution_count": null,
      "outputs": [
        {
          "output_type": "stream",
          "name": "stdout",
          "text": [
            "['no']\n"
          ]
        }
      ]
    },
    {
      "cell_type": "code",
      "source": [],
      "metadata": {
        "id": "ZjKyb3ZjXULY"
      },
      "execution_count": null,
      "outputs": []
    }
  ]
}